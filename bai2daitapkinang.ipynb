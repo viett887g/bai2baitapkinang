{
  "nbformat": 4,
  "nbformat_minor": 0,
  "metadata": {
    "colab": {
      "provenance": [],
      "authorship_tag": "ABX9TyPfchbWUCvmc+m2ge6NRsdp",
      "include_colab_link": true
    },
    "kernelspec": {
      "name": "python3",
      "display_name": "Python 3"
    },
    "language_info": {
      "name": "python"
    }
  },
  "cells": [
    {
      "cell_type": "markdown",
      "metadata": {
        "id": "view-in-github",
        "colab_type": "text"
      },
      "source": [
        "<a href=\"https://colab.research.google.com/github/viett887g/bai2baitapkinang/blob/main/bai2daitapkinang.ipynb\" target=\"_parent\"><img src=\"https://colab.research.google.com/assets/colab-badge.svg\" alt=\"Open In Colab\"/></a>"
      ]
    },
    {
      "cell_type": "markdown",
      "source": [
        "Bài 2:\n",
        "- Đọc dữ liệu (ex2data2.txt);\n",
        "- Chuẩn hóa dữ liệu (lưu ý: chỉ chuẩn\n",
        "hóa X);\n",
        "- Phân chia train – test theo tỉ lệ 90% -\n",
        "10%;\n",
        "- Xây dựng mô hình hồi quy Logistic\n",
        "sử dụng sklearn với thuật toán tối ưu\n",
        "là liblinear; số bước lăp là 1500;\n",
        "thiết lập chế độ nhãn lớp là auto;\n",
        "- Thiết lập 10-fold cv bằng\n",
        "ShuffleSplit với tùy chọn n_splits =\n",
        "10, test_size = 20%;\n",
        "- Huấn luyện mô hình sử dụng\n",
        "cross_val_score() với cv được dùng\n",
        "là ShuffleSplit nêu trên, đánh giá mô\n",
        "hình bằng chỉ số accuracy và áp\n",
        "dụng với tập dữ liệu (X_train,\n",
        "y_train);\n",
        "- In kết quả huấn luyện ra màn hình."
      ],
      "metadata": {
        "id": "4OZhbf25q9av"
      }
    },
    {
      "cell_type": "code",
      "execution_count": 34,
      "metadata": {
        "id": "F76Ix245q4sc"
      },
      "outputs": [],
      "source": [
        "import numpy as np\n",
        "import os\n",
        "from sklearn.model_selection import train_test_split\n",
        "from sklearn.metrics import accuracy_score\n",
        "from sklearn import preprocessing\n",
        "from scipy import optimize\n",
        "from sklearn.linear_model import LogisticRegression\n",
        "from sklearn.preprocessing import StandardScaler\n",
        "from sklearn.model_selection import KFold"
      ]
    },
    {
      "cell_type": "code",
      "source": [
        "def readData(filePath: str, filename: str):\n",
        "    data = np.loadtxt(os.path.join(filePath, filename), delimiter = ',')\n",
        "    data=preprocessing.MinMaxScaler().fit_transform(data)\n",
        "    #data=preprocessing.StandardScaler().fit_transform(data)\n",
        "    X = data[:,:-1]\n",
        "    X=preprocessing.MinMaxScaler().fit_transform(X)#chi chuan hoa du lieu voi X ,y khong chuan hoa\n",
        "    y = data[:, -1]\n",
        "    m = X.shape[0]\n",
        "    n = X.shape[1]\n",
        "    X = np.reshape(X, (m,n))\n",
        "    y = np.reshape(y, (m,1))\n",
        "    x0 = np.ones((m,1))\n",
        "    X = np.column_stack([x0, X])\n",
        "    print(X.shape[0])\n",
        "    X_train, X_test, y_train, y_test = train_test_split(X, y,test_size=0.10,random_state=15)#ti le 90/10\n",
        "    print(\"tap D Train chi lay 90% la:\",X_train.shape[0])\n",
        "    print(\"tap D Text chi lay 10% la : \",X_test.shape[0])\n",
        "    train_test_split(y, shuffle=False,test_size=0.10,random_state=15)\n",
        "    return  X_train, X_test, y_train, y_test"
      ],
      "metadata": {
        "id": "fEBPZN7ZrGP-"
      },
      "execution_count": 80,
      "outputs": []
    },
    {
      "cell_type": "code",
      "source": [
        "from sklearn.datasets import load_iris\n",
        "from sklearn.linear_model import LogisticRegression\n",
        "from sklearn.model_selection import ShuffleSplit\n"
      ],
      "metadata": {
        "id": "_LRrSZFaxZHL"
      },
      "execution_count": 88,
      "outputs": []
    },
    {
      "cell_type": "code",
      "source": [
        "def nggeg(X,y):\n",
        "  model = LogisticRegression(solver='liblinear', max_iter=1500, multi_class='auto')\n",
        "  w = LogisticRegression(random_state=30).fit(X,y)\n",
        "  w_otp0 = w.coef_\n",
        "  return model,w_otp0"
      ],
      "metadata": {
        "id": "Ci0MnZT3Bnbl"
      },
      "execution_count": 81,
      "outputs": []
    },
    {
      "cell_type": "code",
      "source": [
        "def kfold_split(X,y):\n",
        "  cv = ShuffleSplit(n_splits=10, test_size=0.20, random_state=15)\n",
        "  return cv"
      ],
      "metadata": {
        "id": "3JC_Gq76Ee7F"
      },
      "execution_count": 84,
      "outputs": []
    },
    {
      "cell_type": "code",
      "source": [
        ">>> from sklearn import svm, datasets\n",
        ">>> from sklearn.model_selection import cross_val_score"
      ],
      "metadata": {
        "id": "K4DRJNi011UC"
      },
      "execution_count": 43,
      "outputs": []
    },
    {
      "cell_type": "code",
      "source": [
        "def across_val_score(model,X,y,cv):\n",
        "  scores = cross_val_score(model, X, y, cv=cv, scoring='accuracy')\n",
        "  return scores"
      ],
      "metadata": {
        "id": "4JeTMe6g2O0y"
      },
      "execution_count": 92,
      "outputs": []
    },
    {
      "cell_type": "code",
      "source": [
        "def main():\n",
        "    X_train, X_test, y_train, y_test = readData('/content','ex2data2.txt')\n",
        "    model,w_otp0=nggeg(X_train,y_train)\n",
        "    print(\"trong so toi uu\",w_otp0)\n",
        "    cv=kfold_split(X_train,y_train)\n",
        "    scores=across_val_score(model,X_train,y_train,cv)\n",
        "    print(scores)\n",
        "    print(\"\\n\")\n",
        "if __name__ == \"__main__\":\n",
        "    main()"
      ],
      "metadata": {
        "colab": {
          "base_uri": "https://localhost:8080/"
        },
        "id": "8JxbggtSu9wF",
        "outputId": "68a95c14-12c4-4138-e5fe-428bb0cfd220"
      },
      "execution_count": 97,
      "outputs": [
        {
          "output_type": "stream",
          "name": "stdout",
          "text": [
            "118\n",
            "tap D Train chi lay 90% la: 106\n",
            "tap D Text chi lay 10% la :  12\n",
            "trong so toi uu [[-5.22792102e-07 -4.90181294e-01  2.44327390e-01]]\n",
            "[0.54545455 0.31818182 0.5        0.36363636 0.5        0.40909091\n",
            " 0.31818182 0.5        0.45454545 0.63636364]\n",
            "\n",
            "\n"
          ]
        },
        {
          "output_type": "stream",
          "name": "stderr",
          "text": [
            "/usr/local/lib/python3.7/dist-packages/sklearn/utils/validation.py:993: DataConversionWarning: A column-vector y was passed when a 1d array was expected. Please change the shape of y to (n_samples, ), for example using ravel().\n",
            "  y = column_or_1d(y, warn=True)\n",
            "/usr/local/lib/python3.7/dist-packages/sklearn/utils/validation.py:993: DataConversionWarning: A column-vector y was passed when a 1d array was expected. Please change the shape of y to (n_samples, ), for example using ravel().\n",
            "  y = column_or_1d(y, warn=True)\n",
            "/usr/local/lib/python3.7/dist-packages/sklearn/utils/validation.py:993: DataConversionWarning: A column-vector y was passed when a 1d array was expected. Please change the shape of y to (n_samples, ), for example using ravel().\n",
            "  y = column_or_1d(y, warn=True)\n",
            "/usr/local/lib/python3.7/dist-packages/sklearn/utils/validation.py:993: DataConversionWarning: A column-vector y was passed when a 1d array was expected. Please change the shape of y to (n_samples, ), for example using ravel().\n",
            "  y = column_or_1d(y, warn=True)\n",
            "/usr/local/lib/python3.7/dist-packages/sklearn/utils/validation.py:993: DataConversionWarning: A column-vector y was passed when a 1d array was expected. Please change the shape of y to (n_samples, ), for example using ravel().\n",
            "  y = column_or_1d(y, warn=True)\n",
            "/usr/local/lib/python3.7/dist-packages/sklearn/utils/validation.py:993: DataConversionWarning: A column-vector y was passed when a 1d array was expected. Please change the shape of y to (n_samples, ), for example using ravel().\n",
            "  y = column_or_1d(y, warn=True)\n",
            "/usr/local/lib/python3.7/dist-packages/sklearn/utils/validation.py:993: DataConversionWarning: A column-vector y was passed when a 1d array was expected. Please change the shape of y to (n_samples, ), for example using ravel().\n",
            "  y = column_or_1d(y, warn=True)\n",
            "/usr/local/lib/python3.7/dist-packages/sklearn/utils/validation.py:993: DataConversionWarning: A column-vector y was passed when a 1d array was expected. Please change the shape of y to (n_samples, ), for example using ravel().\n",
            "  y = column_or_1d(y, warn=True)\n",
            "/usr/local/lib/python3.7/dist-packages/sklearn/utils/validation.py:993: DataConversionWarning: A column-vector y was passed when a 1d array was expected. Please change the shape of y to (n_samples, ), for example using ravel().\n",
            "  y = column_or_1d(y, warn=True)\n",
            "/usr/local/lib/python3.7/dist-packages/sklearn/utils/validation.py:993: DataConversionWarning: A column-vector y was passed when a 1d array was expected. Please change the shape of y to (n_samples, ), for example using ravel().\n",
            "  y = column_or_1d(y, warn=True)\n",
            "/usr/local/lib/python3.7/dist-packages/sklearn/utils/validation.py:993: DataConversionWarning: A column-vector y was passed when a 1d array was expected. Please change the shape of y to (n_samples, ), for example using ravel().\n",
            "  y = column_or_1d(y, warn=True)\n"
          ]
        }
      ]
    }
  ]
}